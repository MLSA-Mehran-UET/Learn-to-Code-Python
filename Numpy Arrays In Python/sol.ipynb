QUESTION 1
import numpy as np
names = np.array([str(input("Enter Player Name: "))for i in range(11)])
print(names,end=" ")
======================================================================







QUESTION 2
import numpy as np
from random import randrange, uniform

N = int(input("enter array length : "))
array = np.array([0 for i in range(N)],dtype = object)
print(N," random number is :")
for i in range(len(array)):
    array[i] = randrange(0,1000)
    print(array[i])
Max = 0
Min = 1000
sum = 0
for i in range(len(array)):
    sum = sum + array[i]
    if array[i] > Max:
        Max = array[i]
    elif array[i] < Min:
        Min = array[i]
    else :
        continue
avg = sum/len(array)
print("Max number is : ",Max)
print("Min number is : ",Min)
print("average is : ",avg)
======================================================================







QUESTION 3
import numpy as np
from random import randrange

item = int(input("enter number of items :"))
array = np.array([0 for i in range(item)],dtype = object)
j =0

code_array = np.array([0 for i in range(item)],dtype = object)
for i in range(len(code_array)):
    while(j==0) :
        code = str(input("enter 3- digit code :"))
        if len(code) == 3:
            if(len(code_array)<=item):
                code_array[i] = code
            break    
        else:
            print("please enter correct format")
            continue
cards = 0
sweets = 0
stationery = 0
toys = 0

for i in range(len(code_array)):
    for i in range(len(array)):
        first = list(code_array[i])
        if first[0] == "0":
            array[i] = "cards"
            cards = cards+1
        elif first[0] == "1":
            array[i] = "sweets"
            sweets = sweets+1
        elif first[0] == "2":
            array[i] = "stationery"
            stationery = stationery+1
        elif first[0] == "3":
            array[i] = "toys"
            toys = toys+1
        else :
            break
    break

print("no. of items in the shop ",item)
for i in code_array:
    print(i)
print("_____________________________________")    
print("number of cards : ",cards)
print("number of sweets :",sweets)
print("number of stationery :",stationery)
print("number of toys :",toys)
===========================================================================================






QUESTION 4
import numpy as np
number = int(input("enter number of the salsa type: "))
names_array = np.array(["" for i in range(number)],dtype = object)

sales = np.array([0 for i in range(number)],dtype = object)
mild = 0
medium = 0
sweet = 0
hot = 0
zesty = 0

for i in range(len(names_array)):
    for i in range(len(sales)):
        sales[i] = int(input("enter number of jars : "))
        names_array[i] = str(input("enter names of the salsa type : "))
        if names_array[i] == "mild":
            mild = sales[i]
        elif names_array[i] == "medium":
            medium = sales[i]
        elif names_array[i] == "sweet":
            sweet = sales[i]
        elif names_array[i] == "hot":
            hot = sales[i]
        elif names_array[i] == "zesty":
            zesty = sales[i]
        else:
            break
    break
total_sales = mild+medium+sweet+hot+zesty

high_low_sales = np.array([mild,medium,sweet,hot,zesty])
Max = 0
Min = 100
high_name = ""
low_name = ""
for i in range(len(high_low_sales)):
    for i in range(len(names_array)):
        if high_low_sales[i] > Max:
            Max = high_low_sales[i]
            high_name = names_array[i]
        else:
            continue
    for i in range(len(high_low_sales)):
        if high_low_sales[i] < Min:
            Min = high_low_sales[i]
            low_name = names_array[i]
        else:
            continue

print("________________________________")
print("number of jars for mild : ",mild)
print("number of jars for medium : ",medium)
print("number of jars for sweet : ",sweet)
print("number of jars for hot : ",hot)
print("number of jars for zesty : ",zesty)
print("number of total sales of jars : ",total_sales)
print("highest sales product : ",Max)
print("hight sales product : ",high_name)
print("lowest sales product : ",Min)
print("hight sales product : ",low_name)
======================================================================








QUESTION 5
import numpy as np
N = int(input("enter the length of array: "))
array = np.array([0 for i in range(N)],dtype = object)
for i in range(len(array)):
    array[i] = int(input(f"enter index {i+1} :"))
temp = 0
for i in array:
    print(i,end=" ")
print()
for i in range(0,4):
    for j in range(0,4):
        temp = array[j]
        array[j] = array[j+1]
        array[j+1] = temp
    for x in array:
        print(x,end = " ")
        
    print()
===============================================================







QUESTION 6
arr = [1, 2, 3, 4, 5];     
#n determine the number of times an array should be rotated    
n = 4;    
     
#Displays original array    
print("Original array: ");    
for i in range(0, len(arr)):    
    print(arr[i]),     
     
#Rotate the given array by n times toward left    
for i in range(0, n):    
    #Stores the first element of the array    
    first = arr[0];    
        
    for j in range(0, len(arr)-1):    
        #Shift element of array by one    
        arr[j] = arr[j+1];    
            
    #First element of array will be added to the end    
    arr[len(arr)-1] = first;    
     
print();    
     
#Displays resulting array after rotation    
print("Array after left rotation: ");    
for i in range(0, len(arr)):    
    print(arr[i])
==================================================================================
